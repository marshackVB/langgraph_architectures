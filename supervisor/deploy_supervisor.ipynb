{
 "cells": [
  {
   "cell_type": "code",
   "execution_count": 0,
   "metadata": {
    "application/vnd.databricks.v1+cell": {
     "cellMetadata": {
      "byteLimit": 2048000,
      "rowLimit": 10000
     },
     "inputWidgets": {},
     "nuid": "65812d46-3654-4781-b4eb-f25b403a0da2",
     "showTitle": false,
     "tableResultSettingsMap": {},
     "title": ""
    }
   },
   "outputs": [],
   "source": [
    "%pip install uv databricks-agents\n",
    "%restart_python"
   ]
  },
  {
   "cell_type": "code",
   "execution_count": 0,
   "metadata": {
    "application/vnd.databricks.v1+cell": {
     "cellMetadata": {
      "byteLimit": 2048000,
      "rowLimit": 10000
     },
     "inputWidgets": {},
     "nuid": "df8bbb03-c7aa-45f0-b5f6-1ea727550524",
     "showTitle": false,
     "tableResultSettingsMap": {},
     "title": ""
    }
   },
   "outputs": [],
   "source": [
    "from mlflow.types.agent import (\n",
    "    ChatAgentChunk,\n",
    "    ChatAgentMessage,\n",
    "    ChatAgentResponse,\n",
    "    ChatContext)"
   ]
  },
  {
   "cell_type": "code",
   "execution_count": 0,
   "metadata": {
    "application/vnd.databricks.v1+cell": {
     "cellMetadata": {
      "byteLimit": 2048000,
      "rowLimit": 10000
     },
     "inputWidgets": {},
     "nuid": "607ddfd1-fb7b-4c8d-b339-ff6e1a151df1",
     "showTitle": false,
     "tableResultSettingsMap": {},
     "title": ""
    }
   },
   "outputs": [],
   "source": [
    "import os\n",
    "from IPython.display import Image, display\n",
    "import mlflow\n",
    "from mlflow.models.resources import DatabricksServingEndpoint, DatabricksVectorSearchIndex\n",
    "from databricks.agents import deploy\n",
    "from langchain_core.messages import HumanMessage\n",
    "\n",
    "from agents.supervisor.graph import app as supervisor"
   ]
  },
  {
   "cell_type": "code",
   "execution_count": 0,
   "metadata": {
    "application/vnd.databricks.v1+cell": {
     "cellMetadata": {
      "byteLimit": 2048000,
      "rowLimit": 10000
     },
     "inputWidgets": {},
     "nuid": "c61a8aa9-c2dd-4cce-9ef6-877c1e9ea916",
     "showTitle": false,
     "tableResultSettingsMap": {},
     "title": ""
    }
   },
   "outputs": [],
   "source": [
    "DATABRICKS_HOST = dbutils.secrets.get(scope=\"mlc_credentials\", key=\"databricks_host\")\n",
    "DATABRICKS_TOKEN = dbutils.secrets.get(scope=\"mlc_credentials\", key=\"databricks_token\")\n",
    "\n",
    "os.environ[\"DATABRICKS_HOST\"] = DATABRICKS_HOST\n",
    "os.environ[\"DATABRICKS_TOKEN\"] = DATABRICKS_TOKEN\n",
    "\n",
    "messages = {\"messages\": [{\"role\": \"user\", \"content\": \"What is Apache Spark?\"}]}"
   ]
  },
  {
   "cell_type": "code",
   "execution_count": 0,
   "metadata": {
    "application/vnd.databricks.v1+cell": {
     "cellMetadata": {
      "byteLimit": 2048000,
      "rowLimit": 10000
     },
     "inputWidgets": {},
     "nuid": "7195659f-194c-4c70-8a14-4dd9930ef33d",
     "showTitle": false,
     "tableResultSettingsMap": {},
     "title": ""
    }
   },
   "outputs": [],
   "source": [
    "genie_response['messages'][3]"
   ]
  },
  {
   "cell_type": "code",
   "execution_count": 0,
   "metadata": {
    "application/vnd.databricks.v1+cell": {
     "cellMetadata": {
      "byteLimit": 2048000,
      "rowLimit": 10000
     },
     "inputWidgets": {},
     "nuid": "82e8e93b-8c16-41a4-853f-25d2bb10c4e2",
     "showTitle": false,
     "tableResultSettingsMap": {},
     "title": ""
    }
   },
   "outputs": [],
   "source": [
    "messages[0]['messages'][0]"
   ]
  },
  {
   "cell_type": "code",
   "execution_count": 0,
   "metadata": {
    "application/vnd.databricks.v1+cell": {
     "cellMetadata": {
      "byteLimit": 2048000,
      "rowLimit": 10000
     },
     "inputWidgets": {},
     "nuid": "1bd2d188-d836-4c6f-8ac9-db97cd263a43",
     "showTitle": false,
     "tableResultSettingsMap": {},
     "title": ""
    }
   },
   "outputs": [],
   "source": [
    "messages[1]"
   ]
  },
  {
   "cell_type": "code",
   "execution_count": 0,
   "metadata": {
    "application/vnd.databricks.v1+cell": {
     "cellMetadata": {
      "byteLimit": 2048000,
      "rowLimit": 10000
     },
     "inputWidgets": {},
     "nuid": "3865d494-617f-4e20-8b83-491c510c39c7",
     "showTitle": false,
     "tableResultSettingsMap": {},
     "title": ""
    }
   },
   "outputs": [],
   "source": [
    "request = {\"messages\": [{\"role\": \"user\", \"content\": \"Which plant to distribution center route is running the most product?\"}]}\n",
    "\n",
    "messages = []\n",
    "for event in supervisor.stream(request, stream_mode=\"updates\"):\n",
    "    for node_data in event.values():\n",
    "        # Supervisor router messages return None\n",
    "        if node_data is not None:\n",
    "            messages.extend(\n",
    "                ChatAgentMessage(**msg) for msg in node_data.get(\"messages\", [])\n",
    "            )"
   ]
  },
  {
   "cell_type": "code",
   "execution_count": 0,
   "metadata": {
    "application/vnd.databricks.v1+cell": {
     "cellMetadata": {
      "byteLimit": 2048000,
      "rowLimit": 10000
     },
     "inputWidgets": {},
     "nuid": "edaab1d4-8a58-4c5e-b89c-4e5318d6b361",
     "showTitle": false,
     "tableResultSettingsMap": {},
     "title": ""
    }
   },
   "outputs": [],
   "source": [
    "\n",
    "\n",
    "messages = []\n",
    "for event in supervisor.stream(request, stream_mode=\"updates\"):\n",
    "  for node_data in event.values():\n",
    "    # Supervisor router messages return None\n",
    "    if node_data is not None:\n",
    "      messages.append(node_data)"
   ]
  },
  {
   "cell_type": "code",
   "execution_count": 0,
   "metadata": {
    "application/vnd.databricks.v1+cell": {
     "cellMetadata": {
      "byteLimit": 2048000,
      "rowLimit": 10000
     },
     "inputWidgets": {},
     "nuid": "4d12cb4c-9861-4ac9-af26-50474e0c3914",
     "showTitle": false,
     "tableResultSettingsMap": {},
     "title": ""
    }
   },
   "outputs": [],
   "source": [
    "for node_data in genie_response:\n",
    "  for node_data in event.values():\n",
    "            # Supervisor router messages return None\n",
    "            if node_data is not None:\n",
    "  print(node_data.values())"
   ]
  },
  {
   "cell_type": "code",
   "execution_count": 0,
   "metadata": {
    "application/vnd.databricks.v1+cell": {
     "cellMetadata": {
      "byteLimit": 2048000,
      "rowLimit": 10000
     },
     "inputWidgets": {},
     "nuid": "5273fb29-6bd4-4c3e-a65c-63b757141e73",
     "showTitle": false,
     "tableResultSettingsMap": {},
     "title": ""
    }
   },
   "outputs": [],
   "source": [
    "\n",
    "genie_response = []\n",
    "for event in supervisor.stream({\"messages\": [{\"role\": \"user\", \"content\": \"Which plant to distribution center route is running the most product?\"}]}, stream_mode=\"updates\"):\n",
    "  genie_response.append(event)"
   ]
  },
  {
   "cell_type": "code",
   "execution_count": 0,
   "metadata": {
    "application/vnd.databricks.v1+cell": {
     "cellMetadata": {},
     "inputWidgets": {},
     "nuid": "ba3a3da4-8d6e-490f-80de-e5b7388e8ba0",
     "showTitle": false,
     "tableResultSettingsMap": {},
     "title": ""
    }
   },
   "outputs": [],
   "source": []
  },
  {
   "cell_type": "code",
   "execution_count": 0,
   "metadata": {
    "application/vnd.databricks.v1+cell": {
     "cellMetadata": {
      "byteLimit": 2048000,
      "rowLimit": 10000
     },
     "inputWidgets": {},
     "nuid": "39a2e736-413d-42f4-9fbb-aa261a723f89",
     "showTitle": false,
     "tableResultSettingsMap": {},
     "title": ""
    }
   },
   "outputs": [],
   "source": [
    "supervisor.invoke(messages)"
   ]
  },
  {
   "cell_type": "code",
   "execution_count": 0,
   "metadata": {
    "application/vnd.databricks.v1+cell": {
     "cellMetadata": {
      "byteLimit": 2048000,
      "rowLimit": 10000
     },
     "inputWidgets": {},
     "nuid": "72ba53b0-2c25-4c25-abbc-c7a937b74937",
     "showTitle": false,
     "tableResultSettingsMap": {},
     "title": ""
    }
   },
   "outputs": [],
   "source": [
    "from chatagent import AGENT"
   ]
  },
  {
   "cell_type": "code",
   "execution_count": 0,
   "metadata": {
    "application/vnd.databricks.v1+cell": {
     "cellMetadata": {
      "byteLimit": 2048000,
      "rowLimit": 10000
     },
     "inputWidgets": {},
     "nuid": "fdf10a40-4865-484f-97c1-0e597d005c10",
     "showTitle": false,
     "tableResultSettingsMap": {},
     "title": ""
    }
   },
   "outputs": [],
   "source": [
    "messages = {\"messages\": [{\"role\": \"user\", \"content\": \"What are our top 3 forecasted raw material shortages?\"}]}\n",
    "\n",
    "AGENT.predict(messages)"
   ]
  },
  {
   "cell_type": "code",
   "execution_count": 0,
   "metadata": {
    "application/vnd.databricks.v1+cell": {
     "cellMetadata": {
      "byteLimit": 2048000,
      "rowLimit": 10000
     },
     "inputWidgets": {},
     "nuid": "b2d7a7cc-c3c4-4e52-b6db-f9797950ab95",
     "showTitle": false,
     "tableResultSettingsMap": {},
     "title": ""
    }
   },
   "outputs": [],
   "source": [
    "config = mlflow.models.ModelConfig(development_config='config.yaml')\n",
    "\n",
    "supervisor_llm = config.get(\"agents\").get(\"supervisor\")[0]['llm']\n",
    "genie_llm = config.get(\"agents\").get(\"genie\")[0]['llm']\n",
    "\n",
    "rag_config = config.get(\"agents\").get(\"rag\")[0]\n",
    "rag_llm = rag_config['llm']\n",
    "index_location = rag_config['index_location']\n",
    "\n",
    "llms = list(set([supervisor_llm, genie_llm,  rag_llm]))\n",
    "serving_endpoints = [DatabricksServingEndpoint(endpoint_name=llm) for llm in llms]\n",
    "mlflow_config = config.get(\"mlflow\")\n",
    "experiment = mlflow_config['experiment_location']\n",
    "uc_model = mlflow_config['uc_model']\n",
    "input_example = mlflow_config['input_example']\n",
    "\n",
    "mlflow.set_experiment(experiment)\n",
    "mlflow.set_registry_uri(\"databricks-uc\")"
   ]
  },
  {
   "cell_type": "code",
   "execution_count": 0,
   "metadata": {
    "application/vnd.databricks.v1+cell": {
     "cellMetadata": {
      "byteLimit": 2048000,
      "rowLimit": 10000
     },
     "inputWidgets": {},
     "nuid": "1145f10e-42cd-43c4-b8c8-964d8979da4d",
     "showTitle": false,
     "tableResultSettingsMap": {},
     "title": ""
    }
   },
   "outputs": [],
   "source": [
    "AGENT.predict(input_example)"
   ]
  },
  {
   "cell_type": "code",
   "execution_count": 0,
   "metadata": {
    "application/vnd.databricks.v1+cell": {
     "cellMetadata": {
      "byteLimit": 2048000,
      "rowLimit": 10000
     },
     "inputWidgets": {},
     "nuid": "d8aad127-d27a-45da-b67b-b06695e61c5d",
     "showTitle": false,
     "tableResultSettingsMap": {},
     "title": ""
    }
   },
   "outputs": [],
   "source": [
    "with mlflow.start_run(run_name=\"example_agent\"):\n",
    "\n",
    "  model_info = mlflow.pyfunc.log_model(\n",
    "                  python_model = \"chatagent.py\",\n",
    "                  streamable=True,\n",
    "                  model_config=\"config.yaml\",\n",
    "                  artifact_path=\"graph\",\n",
    "                  input_example=input_example,\n",
    "                  code_paths = [\n",
    "                    'agents',\n",
    "                    'graph.py'\n",
    "                    ],\n",
    "                  resources = [\n",
    "                    DatabricksVectorSearchIndex(index_name=index_location),\n",
    "                    *serving_endpoints\n",
    "                    ],\n",
    "                  pip_requirements = \"requirements.txt\"\n",
    "               )\n",
    "  \n",
    "  mlflow.log_artifact(\"graph.png\")\n",
    "\n",
    "  model_uri = model_info.model_uri\n",
    "\n",
    "  loaded_app = mlflow.pyfunc.load_model(model_uri)\n",
    "  loaded_app.predict(input_example)\n",
    "  \n",
    "print(model_uri)"
   ]
  },
  {
   "cell_type": "markdown",
   "metadata": {
    "application/vnd.databricks.v1+cell": {
     "cellMetadata": {
      "byteLimit": 2048000,
      "rowLimit": 10000
     },
     "inputWidgets": {},
     "nuid": "da709438-b9d5-403b-ad9a-0c0cb59f0381",
     "showTitle": false,
     "tableResultSettingsMap": {},
     "title": ""
    }
   },
   "source": [
    "### Verify deployment"
   ]
  },
  {
   "cell_type": "code",
   "execution_count": 0,
   "metadata": {
    "application/vnd.databricks.v1+cell": {
     "cellMetadata": {
      "byteLimit": 2048000,
      "rowLimit": 10000
     },
     "inputWidgets": {},
     "nuid": "eafe0997-2574-42de-8f11-63f47df411b1",
     "showTitle": false,
     "tableResultSettingsMap": {},
     "title": ""
    }
   },
   "outputs": [],
   "source": [
    "messages = {\"messages\": [{\"role\": \"user\", \"content\": \"What are our top 3 forecasted raw material shortages?\"}]}\n",
    "\n",
    "mlflow.models.predict(\n",
    "    model_uri=model_uri,\n",
    "    input_data=messages,\n",
    "    env_manager=\"uv\",\n",
    ")"
   ]
  },
  {
   "cell_type": "code",
   "execution_count": 0,
   "metadata": {
    "application/vnd.databricks.v1+cell": {
     "cellMetadata": {
      "byteLimit": 2048000,
      "rowLimit": 10000
     },
     "inputWidgets": {},
     "nuid": "c9c3ba36-8afa-4386-b89d-84f9549923d8",
     "showTitle": false,
     "tableResultSettingsMap": {},
     "title": ""
    }
   },
   "outputs": [],
   "source": [
    "import mlflow \n",
    "\n",
    "#model_uri = 'runs:/f9ba24a55bee4016b2514ca5fd566f51/graph'\n",
    "\n",
    "pyfunc_model = mlflow.pyfunc.load_model(model_uri)\n",
    "input_data = pyfunc_model.input_example\n",
    "\n",
    "mlflow.models.predict(\n",
    "    model_uri=model_uri,\n",
    "    input_data=input_data,\n",
    "    env_manager=\"uv\",\n",
    ")"
   ]
  },
  {
   "cell_type": "code",
   "execution_count": 0,
   "metadata": {
    "application/vnd.databricks.v1+cell": {
     "cellMetadata": {
      "byteLimit": 2048000,
      "rowLimit": 10000
     },
     "inputWidgets": {},
     "nuid": "f3440c7a-97f5-4a07-a35c-cd16d4dc2987",
     "showTitle": false,
     "tableResultSettingsMap": {},
     "title": ""
    }
   },
   "outputs": [],
   "source": [
    "model_uri"
   ]
  },
  {
   "cell_type": "code",
   "execution_count": 0,
   "metadata": {
    "application/vnd.databricks.v1+cell": {
     "cellMetadata": {
      "byteLimit": 2048000,
      "rowLimit": 10000
     },
     "inputWidgets": {},
     "nuid": "e1289f29-9079-4903-b69b-32ed49acfc90",
     "showTitle": false,
     "tableResultSettingsMap": {},
     "title": ""
    }
   },
   "outputs": [],
   "source": [
    "model_info = mlflow.register_model(model_uri, \n",
    "                                   name = uc_model)"
   ]
  },
  {
   "cell_type": "code",
   "execution_count": 0,
   "metadata": {
    "application/vnd.databricks.v1+cell": {
     "cellMetadata": {
      "byteLimit": 2048000,
      "rowLimit": 10000
     },
     "inputWidgets": {},
     "nuid": "c2a7d171-de90-48ea-afd9-e4a5cdc041b6",
     "showTitle": false,
     "tableResultSettingsMap": {},
     "title": ""
    }
   },
   "outputs": [],
   "source": [
    "deployment_info = deploy(model_name=uc_model, \n",
    "                         model_version=model_info.version,\n",
    "                         #model_version = 3,\n",
    "                         environment_vars = {\"DATABRICKS_HOST\": \"{{secrets/mlc_credentials/databricks_host}}\",\n",
    "                                             \"DATABRICKS_TOKEN\": \"{{secrets/mlc_credentials/databricks_token}}\"})"
   ]
  },
  {
   "cell_type": "code",
   "execution_count": 0,
   "metadata": {
    "application/vnd.databricks.v1+cell": {
     "cellMetadata": {
      "byteLimit": 2048000,
      "rowLimit": 10000
     },
     "inputWidgets": {},
     "nuid": "5b1b0dee-f8a4-4b26-a855-342ac1d63647",
     "showTitle": false,
     "tableResultSettingsMap": {},
     "title": ""
    }
   },
   "outputs": [],
   "source": [
    "import os\n",
    "import requests\n",
    "import numpy as np\n",
    "import pandas as pd\n",
    "import json\n",
    "\n",
    "host = dbutils.secrets.get('mlc_credentials', 'databricks_host')\n",
    "token = dbutils.secrets.get('mlc_credentials', 'databricks_token')\n",
    "url = f'{host}/serving-endpoints/agents_main-default-langgraph_example_agent/invocations'\n",
    "\n",
    "def score_model(dataset):\n",
    "    headers = {'Authorization': f'Bearer {token}', 'Content-Type': 'application/json'}\n",
    "    data_json = json.dumps(dataset, allow_nan=True)\n",
    "    response = requests.request(method='POST', headers=headers, url=url, data=data_json)\n",
    "    if response.status_code != 200:\n",
    "        raise Exception(f'Request failed with status {response.status_code}, {response.text}')\n",
    "    return response.json()"
   ]
  },
  {
   "cell_type": "code",
   "execution_count": 0,
   "metadata": {
    "application/vnd.databricks.v1+cell": {
     "cellMetadata": {
      "byteLimit": 2048000,
      "rowLimit": 10000
     },
     "inputWidgets": {},
     "nuid": "19cde393-649e-40f8-b817-00655523ae10",
     "showTitle": false,
     "tableResultSettingsMap": {},
     "title": ""
    }
   },
   "outputs": [],
   "source": [
    "input_example"
   ]
  },
  {
   "cell_type": "code",
   "execution_count": 0,
   "metadata": {
    "application/vnd.databricks.v1+cell": {
     "cellMetadata": {
      "byteLimit": 2048000,
      "rowLimit": 10000
     },
     "inputWidgets": {},
     "nuid": "912cd04d-db35-47f8-a1a2-27115cc40729",
     "showTitle": false,
     "tableResultSettingsMap": {},
     "title": ""
    }
   },
   "outputs": [],
   "source": [
    "score_model(input_example)"
   ]
  },
  {
   "cell_type": "code",
   "execution_count": 0,
   "metadata": {
    "application/vnd.databricks.v1+cell": {
     "cellMetadata": {
      "byteLimit": 2048000,
      "rowLimit": 10000
     },
     "inputWidgets": {},
     "nuid": "94296d80-b0d8-4896-9ed2-cf32a86e0d1b",
     "showTitle": false,
     "tableResultSettingsMap": {},
     "title": ""
    }
   },
   "outputs": [],
   "source": [
    "\n",
    "{\"messages\": [{\"role\": \"user\", \"content\": \"What are our top 3 forecasted raw material shortages?\"}]}\n",
    "score_model(messages)"
   ]
  }
 ],
 "metadata": {
  "application/vnd.databricks.v1+notebook": {
   "computePreferences": null,
   "dashboards": [],
   "environmentMetadata": {
    "base_environment": "",
    "environment_version": "2"
   },
   "inputWidgetPreferences": null,
   "language": "python",
   "notebookMetadata": {
    "mostRecentlyExecutedCommandWithImplicitDF": {
     "commandId": 2588019255229967,
     "dataframes": [
      "_sqldf"
     ]
    },
    "pythonIndentUnit": 2
   },
   "notebookName": "deploy_supervisor",
   "widgets": {}
  },
  "language_info": {
   "name": "python"
  }
 },
 "nbformat": 4,
 "nbformat_minor": 0
}
