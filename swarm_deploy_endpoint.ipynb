{
 "cells": [
  {
   "cell_type": "markdown",
   "metadata": {
    "application/vnd.databricks.v1+cell": {
     "cellMetadata": {},
     "inputWidgets": {},
     "nuid": "68ca385c-ad52-48ce-88d4-be6df3bfbb8e",
     "showTitle": false,
     "tableResultSettingsMap": {},
     "title": ""
    }
   },
   "source": [
    "## Log the Agent to MLflow, validate inference, and deploy to model serving"
   ]
  },
  {
   "cell_type": "markdown",
   "metadata": {
    "application/vnd.databricks.v1+cell": {
     "cellMetadata": {},
     "inputWidgets": {},
     "nuid": "76eff7a6-c80d-4e3a-be97-d3a0f0ae12a5",
     "showTitle": false,
     "tableResultSettingsMap": {},
     "title": ""
    }
   },
   "source": [
    "Install the uv library to test our model deployment within the notebook using a virtual environment built from this project's requirements.txt file"
   ]
  },
  {
   "cell_type": "code",
   "execution_count": 0,
   "metadata": {
    "application/vnd.databricks.v1+cell": {
     "cellMetadata": {
      "byteLimit": 2048000,
      "rowLimit": 10000
     },
     "inputWidgets": {},
     "nuid": "65812d46-3654-4781-b4eb-f25b403a0da2",
     "showTitle": false,
     "tableResultSettingsMap": {},
     "title": ""
    }
   },
   "outputs": [],
   "source": [
    "%pip install uv\n",
    "%restart_python"
   ]
  },
  {
   "cell_type": "code",
   "execution_count": 0,
   "metadata": {
    "application/vnd.databricks.v1+cell": {
     "cellMetadata": {
      "byteLimit": 2048000,
      "rowLimit": 10000
     },
     "inputWidgets": {},
     "nuid": "6b5f627b-c529-49d9-9c04-707f8af572c5",
     "showTitle": false,
     "tableResultSettingsMap": {},
     "title": ""
    }
   },
   "outputs": [],
   "source": [
    "%load_ext autoreload\n",
    "%autoreload 2"
   ]
  },
  {
   "cell_type": "markdown",
   "metadata": {
    "application/vnd.databricks.v1+cell": {
     "cellMetadata": {},
     "inputWidgets": {},
     "nuid": "1e2619ed-046b-4e6a-92f9-c0ed7db4116d",
     "showTitle": false,
     "tableResultSettingsMap": {},
     "title": ""
    }
   },
   "source": [
    "Load the compiled langgraph agent and view it's graph. This graph will be wrapped in an MLflow ChatAgent model for deployment to Databricks model serving. The ChatAgent ensures that all chat messages received and returned will conform to mlflow chat message formats, which Databricks model serving requires.\n",
    "\n",
    "Note that the genie and rag agents can only return control to the supervisor. They cannot directly end the graph's execution as shown in the below image."
   ]
  },
  {
   "cell_type": "code",
   "execution_count": 0,
   "metadata": {
    "application/vnd.databricks.v1+cell": {
     "cellMetadata": {
      "byteLimit": 2048000,
      "rowLimit": 10000
     },
     "inputWidgets": {},
     "nuid": "e4b2a620-dcaa-4d5c-b62a-cf19b447bd23",
     "showTitle": false,
     "tableResultSettingsMap": {},
     "title": ""
    }
   },
   "outputs": [],
   "source": [
    "import os\n",
    "import mlflow\n",
    "from mlflow.models.resources import DatabricksServingEndpoint, DatabricksVectorSearchIndex\n",
    "from databricks.agents import deploy\n",
    "from IPython.display import Image\n",
    "from swarm_agent import swarm\n",
    "\n",
    "display(Image(swarm.get_graph().draw_mermaid_png(output_file_path=\"swarm_graph.png\")))"
   ]
  },
  {
   "cell_type": "markdown",
   "metadata": {
    "application/vnd.databricks.v1+cell": {
     "cellMetadata": {},
     "inputWidgets": {},
     "nuid": "a834681a-dccd-4bdb-b356-76e7e7acfa7b",
     "showTitle": false,
     "tableResultSettingsMap": {},
     "title": ""
    }
   },
   "source": [
    "Load secrets for authentication to the Databricks Genie space"
   ]
  },
  {
   "cell_type": "code",
   "execution_count": 0,
   "metadata": {
    "application/vnd.databricks.v1+cell": {
     "cellMetadata": {
      "byteLimit": 2048000,
      "rowLimit": 10000
     },
     "inputWidgets": {},
     "nuid": "c61a8aa9-c2dd-4cce-9ef6-877c1e9ea916",
     "showTitle": false,
     "tableResultSettingsMap": {},
     "title": ""
    }
   },
   "outputs": [],
   "source": [
    "DATABRICKS_HOST = dbutils.secrets.get(scope=\"mlc_credentials\", key=\"databricks_host\")\n",
    "DATABRICKS_TOKEN = dbutils.secrets.get(scope=\"mlc_credentials\", key=\"databricks_token\")\n",
    "\n",
    "os.environ[\"DATABRICKS_HOST\"] = DATABRICKS_HOST\n",
    "os.environ[\"DATABRICKS_TOKEN\"] = DATABRICKS_TOKEN\n",
    "\n",
    "messages = {\"messages\": [{\"role\": \"user\", \"content\": \"What is Apache Spark?\"}]}"
   ]
  },
  {
   "cell_type": "markdown",
   "metadata": {
    "application/vnd.databricks.v1+cell": {
     "cellMetadata": {},
     "inputWidgets": {},
     "nuid": "0b89e30c-3f94-4f37-b98e-1e5a21682b7a",
     "showTitle": false,
     "tableResultSettingsMap": {},
     "title": ""
    }
   },
   "source": [
    "Load configuration related to logging"
   ]
  },
  {
   "cell_type": "code",
   "execution_count": 0,
   "metadata": {
    "application/vnd.databricks.v1+cell": {
     "cellMetadata": {
      "byteLimit": 2048000,
      "rowLimit": 10000
     },
     "inputWidgets": {},
     "nuid": "b2d7a7cc-c3c4-4e52-b6db-f9797950ab95",
     "showTitle": false,
     "tableResultSettingsMap": {},
     "title": ""
    }
   },
   "outputs": [],
   "source": [
    "config = mlflow.models.ModelConfig(development_config='config.yaml')\n",
    "\n",
    "genie_llm = config.get(\"agents\").get(\"genie\")[0]['llm']\n",
    "\n",
    "rag_config = config.get(\"agents\").get(\"rag\")[0]\n",
    "rag_llm = rag_config['llm']\n",
    "index_location = rag_config['index_location']\n",
    "\n",
    "llms = list(set([genie_llm,  rag_llm]))\n",
    "serving_endpoints = [DatabricksServingEndpoint(endpoint_name=llm) for llm in llms]\n",
    "mlflow_config = config.get(\"mlflow\")\n",
    "experiment = mlflow_config['experiment_location']\n",
    "uc_model = mlflow_config['uc_model']\n",
    "input_example = mlflow_config['input_example']\n",
    "\n",
    "mlflow.set_experiment(experiment)\n",
    "mlflow.set_registry_uri(\"databricks-uc\")"
   ]
  },
  {
   "cell_type": "markdown",
   "metadata": {
    "application/vnd.databricks.v1+cell": {
     "cellMetadata": {},
     "inputWidgets": {},
     "nuid": "75139776-6399-4568-ba3b-eef74447e023",
     "showTitle": false,
     "tableResultSettingsMap": {},
     "title": ""
    }
   },
   "source": [
    "Register agent to MLflow"
   ]
  },
  {
   "cell_type": "code",
   "execution_count": 0,
   "metadata": {
    "application/vnd.databricks.v1+cell": {
     "cellMetadata": {
      "byteLimit": 2048000,
      "rowLimit": 10000
     },
     "inputWidgets": {},
     "nuid": "9299fc21-2a0a-4cd1-b016-192ed762be38",
     "showTitle": false,
     "tableResultSettingsMap": {},
     "title": ""
    }
   },
   "outputs": [],
   "source": [
    "messages = {\"messages\": [{\"role\": \"user\", \"content\": \"What are our top 3 forecasted raw material shortages?\"}]}\n",
    "\n",
    "from swarm_agent import swarm\n",
    "for event in swarm.stream(messages, stream_mode=\"updates\"):\n",
    "  print(event)"
   ]
  },
  {
   "cell_type": "code",
   "execution_count": 0,
   "metadata": {
    "application/vnd.databricks.v1+cell": {
     "cellMetadata": {
      "byteLimit": 2048000,
      "rowLimit": 10000
     },
     "inputWidgets": {},
     "nuid": "9e3cc765-7b42-4c48-9e88-b80e7bc65c73",
     "showTitle": false,
     "tableResultSettingsMap": {},
     "title": ""
    }
   },
   "outputs": [],
   "source": [
    "from swarm_agent import AGENT\n",
    "for event in AGENT.predict_stream(messages):\n",
    "  print(event)"
   ]
  },
  {
   "cell_type": "code",
   "execution_count": 0,
   "metadata": {
    "application/vnd.databricks.v1+cell": {
     "cellMetadata": {
      "byteLimit": 2048000,
      "rowLimit": 10000
     },
     "inputWidgets": {},
     "nuid": "d8aad127-d27a-45da-b67b-b06695e61c5d",
     "showTitle": false,
     "tableResultSettingsMap": {},
     "title": ""
    }
   },
   "outputs": [],
   "source": [
    "with mlflow.start_run(run_name=\"swarm\"):\n",
    "\n",
    "  model_info = mlflow.pyfunc.log_model(\n",
    "                  python_model = \"swarm_agent.py\",\n",
    "                  streamable=True,\n",
    "                  model_config=\"config.yaml\",\n",
    "                  artifact_path=\"graph\",\n",
    "                  input_example=input_example,\n",
    "                  # See the caveate's for code_paths: https://mlflow.org/docs/latest/ml/model/dependencies#caveats-of-code_paths-option\n",
    "                  code_paths = [\n",
    "                    'agents'\n",
    "                    ],\n",
    "                  resources = [\n",
    "                    DatabricksVectorSearchIndex(index_name=index_location),\n",
    "                    *serving_endpoints\n",
    "                    ],\n",
    "                  pip_requirements = \"requirements.txt\"\n",
    "               )\n",
    "  \n",
    "  mlflow.log_artifact(\"swarm_graph.png\")\n",
    "\n",
    "  model_uri = model_info.model_uri\n",
    "\n",
    "  loaded_app = mlflow.pyfunc.load_model(model_uri)\n",
    "  loaded_app.predict(input_example)\n",
    "  \n",
    "print(model_uri)"
   ]
  },
  {
   "cell_type": "markdown",
   "metadata": {
    "application/vnd.databricks.v1+cell": {
     "cellMetadata": {
      "byteLimit": 2048000,
      "rowLimit": 10000
     },
     "inputWidgets": {},
     "nuid": "da709438-b9d5-403b-ad9a-0c0cb59f0381",
     "showTitle": false,
     "tableResultSettingsMap": {},
     "title": ""
    }
   },
   "source": [
    "Validate inference within a virtual environment based on the requirements.txt file"
   ]
  },
  {
   "cell_type": "code",
   "execution_count": 0,
   "metadata": {
    "application/vnd.databricks.v1+cell": {
     "cellMetadata": {
      "byteLimit": 2048000,
      "rowLimit": 10000
     },
     "inputWidgets": {},
     "nuid": "eafe0997-2574-42de-8f11-63f47df411b1",
     "showTitle": false,
     "tableResultSettingsMap": {},
     "title": ""
    }
   },
   "outputs": [],
   "source": [
    "messages = {\"messages\": [{\"role\": \"user\", \"content\": \"What are our top 3 forecasted raw material shortages?\"}]}\n",
    "\n",
    "mlflow.models.predict(\n",
    "    model_uri=model_uri,\n",
    "    input_data=messages,\n",
    "    env_manager=\"uv\",\n",
    ")"
   ]
  },
  {
   "cell_type": "markdown",
   "metadata": {
    "application/vnd.databricks.v1+cell": {
     "cellMetadata": {},
     "inputWidgets": {},
     "nuid": "e6769799-562c-4a54-9d61-d5de467fe188",
     "showTitle": false,
     "tableResultSettingsMap": {},
     "title": ""
    }
   },
   "source": [
    "Register agent version to Unity Catalog; this is a requirement for model serving"
   ]
  },
  {
   "cell_type": "code",
   "execution_count": 0,
   "metadata": {
    "application/vnd.databricks.v1+cell": {
     "cellMetadata": {
      "byteLimit": 2048000,
      "rowLimit": 10000
     },
     "inputWidgets": {},
     "nuid": "e1289f29-9079-4903-b69b-32ed49acfc90",
     "showTitle": false,
     "tableResultSettingsMap": {},
     "title": ""
    }
   },
   "outputs": [],
   "source": [
    "model_info = mlflow.register_model(model_uri, \n",
    "                                   name = uc_model,\n",
    "                                   tags={\"architecture\": \"swarm\",\n",
    "                                         \"stage\": \"production\"})"
   ]
  },
  {
   "cell_type": "markdown",
   "metadata": {
    "application/vnd.databricks.v1+cell": {
     "cellMetadata": {},
     "inputWidgets": {},
     "nuid": "54e7608e-39cb-4e11-8a97-b983262c96cd",
     "showTitle": false,
     "tableResultSettingsMap": {},
     "title": ""
    }
   },
   "source": [
    "Deploy the agent to model serving"
   ]
  },
  {
   "cell_type": "code",
   "execution_count": 0,
   "metadata": {
    "application/vnd.databricks.v1+cell": {
     "cellMetadata": {
      "byteLimit": 2048000,
      "rowLimit": 10000
     },
     "inputWidgets": {},
     "nuid": "c2a7d171-de90-48ea-afd9-e4a5cdc041b6",
     "showTitle": false,
     "tableResultSettingsMap": {},
     "title": ""
    }
   },
   "outputs": [],
   "source": [
    "deployment_info = deploy(model_name=uc_model, \n",
    "                         model_version=model_info.version,\n",
    "                         environment_vars = {\"DATABRICKS_HOST\": \"{{secrets/mlc_credentials/databricks_host}}\",\n",
    "                                             \"DATABRICKS_TOKEN\": \"{{secrets/mlc_credentials/databricks_token}}\"})"
   ]
  },
  {
   "cell_type": "markdown",
   "metadata": {
    "application/vnd.databricks.v1+cell": {
     "cellMetadata": {},
     "inputWidgets": {},
     "nuid": "b72db52b-94ec-4bc9-879f-686a69a157b9",
     "showTitle": false,
     "tableResultSettingsMap": {},
     "title": ""
    }
   },
   "source": [
    "Query the agent endpoint"
   ]
  },
  {
   "cell_type": "code",
   "execution_count": 0,
   "metadata": {
    "application/vnd.databricks.v1+cell": {
     "cellMetadata": {
      "byteLimit": 2048000,
      "rowLimit": 10000
     },
     "inputWidgets": {},
     "nuid": "5b1b0dee-f8a4-4b26-a855-342ac1d63647",
     "showTitle": false,
     "tableResultSettingsMap": {},
     "title": ""
    }
   },
   "outputs": [],
   "source": [
    "import os\n",
    "import requests\n",
    "import numpy as np\n",
    "import pandas as pd\n",
    "import json\n",
    "\n",
    "host = dbutils.secrets.get('mlc_credentials', 'databricks_host')\n",
    "token = dbutils.secrets.get('mlc_credentials', 'databricks_token')\n",
    "url = f'{host}/serving-endpoints/agents_main-default-langgraph_example_agent/invocations'\n",
    "\n",
    "def score_model(dataset):\n",
    "    headers = {'Authorization': f'Bearer {token}', 'Content-Type': 'application/json'}\n",
    "    data_json = json.dumps(dataset, allow_nan=True)\n",
    "    response = requests.request(method='POST', headers=headers, url=url, data=data_json)\n",
    "    if response.status_code != 200:\n",
    "        raise Exception(f'Request failed with status {response.status_code}, {response.text}')\n",
    "    return response.json()"
   ]
  },
  {
   "cell_type": "code",
   "execution_count": 0,
   "metadata": {
    "application/vnd.databricks.v1+cell": {
     "cellMetadata": {
      "byteLimit": 2048000,
      "rowLimit": 10000
     },
     "inputWidgets": {},
     "nuid": "19cde393-649e-40f8-b817-00655523ae10",
     "showTitle": false,
     "tableResultSettingsMap": {},
     "title": ""
    }
   },
   "outputs": [],
   "source": [
    "input_example"
   ]
  },
  {
   "cell_type": "code",
   "execution_count": 0,
   "metadata": {
    "application/vnd.databricks.v1+cell": {
     "cellMetadata": {
      "byteLimit": 2048000,
      "rowLimit": 10000
     },
     "inputWidgets": {},
     "nuid": "912cd04d-db35-47f8-a1a2-27115cc40729",
     "showTitle": false,
     "tableResultSettingsMap": {},
     "title": ""
    }
   },
   "outputs": [],
   "source": [
    "score_model(input_example)"
   ]
  },
  {
   "cell_type": "code",
   "execution_count": 0,
   "metadata": {
    "application/vnd.databricks.v1+cell": {
     "cellMetadata": {
      "byteLimit": 2048000,
      "rowLimit": 10000
     },
     "inputWidgets": {},
     "nuid": "94296d80-b0d8-4896-9ed2-cf32a86e0d1b",
     "showTitle": false,
     "tableResultSettingsMap": {},
     "title": ""
    }
   },
   "outputs": [],
   "source": [
    "\n",
    "{\"messages\": [{\"role\": \"user\", \"content\": \"What are our top 3 forecasted raw material shortages?\"}]}\n",
    "score_model(messages)"
   ]
  }
 ],
 "metadata": {
  "application/vnd.databricks.v1+notebook": {
   "computePreferences": null,
   "dashboards": [],
   "environmentMetadata": {
    "base_environment": "",
    "environment_version": "2"
   },
   "inputWidgetPreferences": null,
   "language": "python",
   "notebookMetadata": {
    "mostRecentlyExecutedCommandWithImplicitDF": {
     "commandId": 2588019255229967,
     "dataframes": [
      "_sqldf"
     ]
    },
    "pythonIndentUnit": 2
   },
   "notebookName": "swarm_deploy_endpoint",
   "widgets": {}
  },
  "language_info": {
   "name": "python"
  }
 },
 "nbformat": 4,
 "nbformat_minor": 0
}
