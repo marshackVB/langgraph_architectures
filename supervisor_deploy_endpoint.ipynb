{
 "cells": [
  {
   "cell_type": "markdown",
   "metadata": {
    "application/vnd.databricks.v1+cell": {
     "cellMetadata": {},
     "inputWidgets": {},
     "nuid": "68ca385c-ad52-48ce-88d4-be6df3bfbb8e",
     "showTitle": false,
     "tableResultSettingsMap": {},
     "title": ""
    }
   },
   "source": [
    "#### Deploy the supervisor agent to a Databricks model serving endpoint"
   ]
  },
  {
   "cell_type": "markdown",
   "metadata": {
    "application/vnd.databricks.v1+cell": {
     "cellMetadata": {},
     "inputWidgets": {},
     "nuid": "76eff7a6-c80d-4e3a-be97-d3a0f0ae12a5",
     "showTitle": false,
     "tableResultSettingsMap": {},
     "title": ""
    }
   },
   "source": [
    "Install the uv library to test our model deployment within the notebook using a virtual environment built from this project's requirements.txt file"
   ]
  },
  {
   "cell_type": "code",
   "execution_count": 0,
   "metadata": {
    "application/vnd.databricks.v1+cell": {
     "cellMetadata": {
      "byteLimit": 2048000,
      "rowLimit": 10000
     },
     "inputWidgets": {},
     "nuid": "f9c73500-46e5-436b-8098-1b4b8b7f1dea",
     "showTitle": false,
     "tableResultSettingsMap": {},
     "title": ""
    }
   },
   "outputs": [],
   "source": [
    "%pip install uv\n",
    "%restart_python"
   ]
  },
  {
   "cell_type": "code",
   "execution_count": 0,
   "metadata": {
    "application/vnd.databricks.v1+cell": {
     "cellMetadata": {
      "byteLimit": 2048000,
      "rowLimit": 10000
     },
     "inputWidgets": {},
     "nuid": "10e27307-1b6a-41bf-aef6-bc3098f02d88",
     "showTitle": false,
     "tableResultSettingsMap": {},
     "title": ""
    }
   },
   "outputs": [],
   "source": [
    "%load_ext autoreload\n",
    "%autoreload 2"
   ]
  },
  {
   "cell_type": "markdown",
   "metadata": {
    "application/vnd.databricks.v1+cell": {
     "cellMetadata": {},
     "inputWidgets": {},
     "nuid": "42ffa8bb-36ce-4356-9336-450d4211769e",
     "showTitle": false,
     "tableResultSettingsMap": {},
     "title": ""
    }
   },
   "source": [
    "Load LangGraph agent and view graph"
   ]
  },
  {
   "cell_type": "code",
   "execution_count": 0,
   "metadata": {
    "application/vnd.databricks.v1+cell": {
     "cellMetadata": {
      "byteLimit": 2048000,
      "rowLimit": 10000
     },
     "inputWidgets": {},
     "nuid": "0f58a90f-9ef9-42f0-91e9-c276aeff7095",
     "showTitle": false,
     "tableResultSettingsMap": {},
     "title": ""
    }
   },
   "outputs": [],
   "source": [
    "import os\n",
    "import mlflow\n",
    "from mlflow.models.resources import DatabricksServingEndpoint, DatabricksVectorSearchIndex\n",
    "from databricks.agents import deploy\n",
    "from IPython.display import Image\n",
    "from supervisor_agent import supervisor\n",
    "\n",
    "display(Image(supervisor.get_graph().draw_mermaid_png(output_file_path=\"supervisor_graph.png\")))"
   ]
  },
  {
   "cell_type": "markdown",
   "metadata": {
    "application/vnd.databricks.v1+cell": {
     "cellMetadata": {},
     "inputWidgets": {},
     "nuid": "59e11ffb-2679-4196-b405-aeb5b7d1f41a",
     "showTitle": false,
     "tableResultSettingsMap": {},
     "title": ""
    }
   },
   "source": [
    "Single agent query"
   ]
  },
  {
   "cell_type": "code",
   "execution_count": 0,
   "metadata": {
    "application/vnd.databricks.v1+cell": {
     "cellMetadata": {
      "byteLimit": 2048000,
      "rowLimit": 10000
     },
     "inputWidgets": {},
     "nuid": "c31dfa95-e1da-4e60-b705-b6a5d8c34ce9",
     "showTitle": false,
     "tableResultSettingsMap": {},
     "title": ""
    }
   },
   "outputs": [],
   "source": [
    "messages = {\"messages\": [{\"role\": \"user\", \"content\": \"Does Apache Spark support streaming?\"}]}\n",
    "supervisor.invoke(messages)"
   ]
  },
  {
   "cell_type": "markdown",
   "metadata": {
    "application/vnd.databricks.v1+cell": {
     "cellMetadata": {},
     "inputWidgets": {},
     "nuid": "ae4592f7-6a24-4a8b-b8fa-b22367c3ad60",
     "showTitle": false,
     "tableResultSettingsMap": {},
     "title": ""
    }
   },
   "source": [
    "Multi-agent query"
   ]
  },
  {
   "cell_type": "code",
   "execution_count": 0,
   "metadata": {
    "application/vnd.databricks.v1+cell": {
     "cellMetadata": {
      "byteLimit": 2048000,
      "rowLimit": 10000
     },
     "inputWidgets": {},
     "nuid": "5b45a87c-3ac8-4674-8232-5eeaaf7a332c",
     "showTitle": false,
     "tableResultSettingsMap": {},
     "title": ""
    }
   },
   "outputs": [],
   "source": [
    "messages = {\"messages\": [{\"role\": \"user\", \"content\": \"Does Apache Spark support streaming? Also, what are our top 3 forecasted raw material shortages?\"}]}\n",
    "                          \n",
    "supervisor.invoke(messages)"
   ]
  },
  {
   "cell_type": "markdown",
   "metadata": {
    "application/vnd.databricks.v1+cell": {
     "cellMetadata": {},
     "inputWidgets": {},
     "nuid": "a834681a-dccd-4bdb-b356-76e7e7acfa7b",
     "showTitle": false,
     "tableResultSettingsMap": {},
     "title": ""
    }
   },
   "source": [
    "Load secrets for authentication to the Databricks Genie space"
   ]
  },
  {
   "cell_type": "code",
   "execution_count": 0,
   "metadata": {
    "application/vnd.databricks.v1+cell": {
     "cellMetadata": {
      "byteLimit": 2048000,
      "rowLimit": 10000
     },
     "inputWidgets": {},
     "nuid": "c61a8aa9-c2dd-4cce-9ef6-877c1e9ea916",
     "showTitle": false,
     "tableResultSettingsMap": {},
     "title": ""
    }
   },
   "outputs": [],
   "source": [
    "DATABRICKS_HOST = dbutils.secrets.get(scope=\"mlc_credentials\", key=\"databricks_host\")\n",
    "DATABRICKS_TOKEN = dbutils.secrets.get(scope=\"mlc_credentials\", key=\"databricks_token\")\n",
    "\n",
    "os.environ[\"DATABRICKS_HOST\"] = DATABRICKS_HOST\n",
    "os.environ[\"DATABRICKS_TOKEN\"] = DATABRICKS_TOKEN\n",
    "\n",
    "messages = {\"messages\": [{\"role\": \"user\", \"content\": \"What is Apache Spark?\"}]}"
   ]
  },
  {
   "cell_type": "markdown",
   "metadata": {
    "application/vnd.databricks.v1+cell": {
     "cellMetadata": {},
     "inputWidgets": {},
     "nuid": "4946a1b0-802b-47f7-972d-dbb0d292b9cd",
     "showTitle": false,
     "tableResultSettingsMap": {},
     "title": ""
    }
   },
   "source": [
    "Load configuration related to logging"
   ]
  },
  {
   "cell_type": "code",
   "execution_count": 0,
   "metadata": {
    "application/vnd.databricks.v1+cell": {
     "cellMetadata": {
      "byteLimit": 2048000,
      "rowLimit": 10000
     },
     "inputWidgets": {},
     "nuid": "b2d7a7cc-c3c4-4e52-b6db-f9797950ab95",
     "showTitle": false,
     "tableResultSettingsMap": {},
     "title": ""
    }
   },
   "outputs": [],
   "source": [
    "config = mlflow.models.ModelConfig(development_config='config.yaml')\n",
    "\n",
    "supervisor_llm = config.get(\"agents\").get(\"supervisor\")[0]['llm']\n",
    "genie_llm = config.get(\"agents\").get(\"genie\")[0]['llm']\n",
    "\n",
    "rag_config = config.get(\"agents\").get(\"rag\")[0]\n",
    "rag_llm = rag_config['llm']\n",
    "index_location = rag_config['index_location']\n",
    "\n",
    "llms = list(set([supervisor_llm, genie_llm,  rag_llm]))\n",
    "serving_endpoints = [DatabricksServingEndpoint(endpoint_name=llm) for llm in llms]\n",
    "mlflow_config = config.get(\"mlflow\")\n",
    "experiment = mlflow_config['experiment_location']\n",
    "uc_model = mlflow_config['uc_model']\n",
    "input_example = mlflow_config['input_example']\n",
    "\n",
    "mlflow.set_experiment(experiment)\n",
    "mlflow.set_registry_uri(\"databricks-uc\")"
   ]
  },
  {
   "cell_type": "markdown",
   "metadata": {
    "application/vnd.databricks.v1+cell": {
     "cellMetadata": {},
     "inputWidgets": {},
     "nuid": "4d224be7-2033-41dc-b080-150667586fb2",
     "showTitle": false,
     "tableResultSettingsMap": {},
     "title": ""
    }
   },
   "source": [
    "Register agent to MLflow"
   ]
  },
  {
   "cell_type": "code",
   "execution_count": 0,
   "metadata": {
    "application/vnd.databricks.v1+cell": {
     "cellMetadata": {
      "byteLimit": 2048000,
      "rowLimit": 10000
     },
     "inputWidgets": {},
     "nuid": "d8aad127-d27a-45da-b67b-b06695e61c5d",
     "showTitle": false,
     "tableResultSettingsMap": {},
     "title": ""
    }
   },
   "outputs": [],
   "source": [
    "with mlflow.start_run(run_name=\"example_agent\"):\n",
    "\n",
    "  model_info = mlflow.pyfunc.log_model(\n",
    "                  python_model = \"supervisor_agent.py\",\n",
    "                  streamable=True,\n",
    "                  model_config=\"config.yaml\",\n",
    "                  artifact_path=\"graph\",\n",
    "                  input_example=input_example,\n",
    "                  # See the caveate's for code_paths: https://mlflow.org/docs/latest/ml/model/dependencies#caveats-of-code_paths-option\n",
    "                  code_paths = [\n",
    "                    'agents'\n",
    "                    ],\n",
    "                  resources = [\n",
    "                    DatabricksVectorSearchIndex(index_name=index_location),\n",
    "                    *serving_endpoints\n",
    "                    ],\n",
    "                  pip_requirements = \"requirements.txt\"\n",
    "               )\n",
    "  \n",
    "  mlflow.log_artifact(\"supervisor_graph.png\")\n",
    "\n",
    "  model_uri = model_info.model_uri\n",
    "\n",
    "  loaded_app = mlflow.pyfunc.load_model(model_uri)\n",
    "  loaded_app.predict(input_example)\n",
    "  \n",
    "print(model_uri)"
   ]
  },
  {
   "cell_type": "markdown",
   "metadata": {
    "application/vnd.databricks.v1+cell": {
     "cellMetadata": {
      "byteLimit": 2048000,
      "rowLimit": 10000
     },
     "inputWidgets": {},
     "nuid": "da709438-b9d5-403b-ad9a-0c0cb59f0381",
     "showTitle": false,
     "tableResultSettingsMap": {},
     "title": ""
    }
   },
   "source": [
    "Validate inference within a virtual environment based on the requirements.txt file"
   ]
  },
  {
   "cell_type": "code",
   "execution_count": 0,
   "metadata": {
    "application/vnd.databricks.v1+cell": {
     "cellMetadata": {
      "byteLimit": 2048000,
      "rowLimit": 10000
     },
     "inputWidgets": {},
     "nuid": "eafe0997-2574-42de-8f11-63f47df411b1",
     "showTitle": false,
     "tableResultSettingsMap": {},
     "title": ""
    }
   },
   "outputs": [],
   "source": [
    "messages = {\"messages\": [{\"role\": \"user\", \"content\": \"What are our top 3 forecasted raw material shortages?\"}]}\n",
    "\n",
    "mlflow.models.predict(\n",
    "    model_uri=model_uri,\n",
    "    input_data=messages,\n",
    "    env_manager=\"uv\",\n",
    ")"
   ]
  },
  {
   "cell_type": "markdown",
   "metadata": {
    "application/vnd.databricks.v1+cell": {
     "cellMetadata": {},
     "inputWidgets": {},
     "nuid": "6554c4da-5934-460d-86de-edae9edc0c4f",
     "showTitle": false,
     "tableResultSettingsMap": {},
     "title": ""
    }
   },
   "source": [
    "Register agent version to Unity Catalog; this is a requirement for model serving"
   ]
  },
  {
   "cell_type": "code",
   "execution_count": 0,
   "metadata": {
    "application/vnd.databricks.v1+cell": {
     "cellMetadata": {
      "byteLimit": 2048000,
      "rowLimit": 10000
     },
     "inputWidgets": {},
     "nuid": "f901431c-6cdf-429e-bbe3-8beb48d79b1b",
     "showTitle": false,
     "tableResultSettingsMap": {},
     "title": ""
    }
   },
   "outputs": [],
   "source": [
    "model_info = mlflow.register_model(model_uri, \n",
    "                                   name = uc_model,\n",
    "                                   tags={\"architecture\": \"supervisor\"})"
   ]
  },
  {
   "cell_type": "markdown",
   "metadata": {
    "application/vnd.databricks.v1+cell": {
     "cellMetadata": {},
     "inputWidgets": {},
     "nuid": "c16e03ed-7ac2-49f7-ba5d-20378964d79e",
     "showTitle": false,
     "tableResultSettingsMap": {},
     "title": ""
    }
   },
   "source": [
    "Deploy the agent to model serving"
   ]
  },
  {
   "cell_type": "code",
   "execution_count": 0,
   "metadata": {
    "application/vnd.databricks.v1+cell": {
     "cellMetadata": {
      "byteLimit": 2048000,
      "rowLimit": 10000
     },
     "inputWidgets": {},
     "nuid": "c2a7d171-de90-48ea-afd9-e4a5cdc041b6",
     "showTitle": false,
     "tableResultSettingsMap": {},
     "title": ""
    }
   },
   "outputs": [],
   "source": [
    "deployment_info = deploy(model_name=uc_model, \n",
    "                         model_version=model_info.version,\n",
    "                         environment_vars = {\"DATABRICKS_HOST\": \"{{secrets/mlc_credentials/databricks_host}}\",\n",
    "                                             \"DATABRICKS_TOKEN\": \"{{secrets/mlc_credentials/databricks_token}}\"})"
   ]
  },
  {
   "cell_type": "markdown",
   "metadata": {
    "application/vnd.databricks.v1+cell": {
     "cellMetadata": {},
     "inputWidgets": {},
     "nuid": "a664e422-8673-4313-adcc-fdfaa424b411",
     "showTitle": false,
     "tableResultSettingsMap": {},
     "title": ""
    }
   },
   "source": [
    "Query the agent endpoint"
   ]
  },
  {
   "cell_type": "code",
   "execution_count": 0,
   "metadata": {
    "application/vnd.databricks.v1+cell": {
     "cellMetadata": {
      "byteLimit": 2048000,
      "rowLimit": 10000
     },
     "inputWidgets": {},
     "nuid": "5b1b0dee-f8a4-4b26-a855-342ac1d63647",
     "showTitle": false,
     "tableResultSettingsMap": {},
     "title": ""
    }
   },
   "outputs": [],
   "source": [
    "import os\n",
    "import requests\n",
    "import numpy as np\n",
    "import pandas as pd\n",
    "import json\n",
    "\n",
    "host = dbutils.secrets.get('mlc_credentials', 'databricks_host')\n",
    "token = dbutils.secrets.get('mlc_credentials', 'databricks_token')\n",
    "url = f'{host}/serving-endpoints/agents_main-default-langgraph_example_agent/invocations'\n",
    "\n",
    "def score_model(dataset):\n",
    "    headers = {'Authorization': f'Bearer {token}', 'Content-Type': 'application/json'}\n",
    "    data_json = json.dumps(dataset, allow_nan=True)\n",
    "    response = requests.request(method='POST', headers=headers, url=url, data=data_json)\n",
    "    if response.status_code != 200:\n",
    "        raise Exception(f'Request failed with status {response.status_code}, {response.text}')\n",
    "    return response.json()"
   ]
  },
  {
   "cell_type": "code",
   "execution_count": 0,
   "metadata": {
    "application/vnd.databricks.v1+cell": {
     "cellMetadata": {
      "byteLimit": 2048000,
      "rowLimit": 10000
     },
     "inputWidgets": {},
     "nuid": "19cde393-649e-40f8-b817-00655523ae10",
     "showTitle": false,
     "tableResultSettingsMap": {},
     "title": ""
    }
   },
   "outputs": [],
   "source": [
    "input_example"
   ]
  },
  {
   "cell_type": "code",
   "execution_count": 0,
   "metadata": {
    "application/vnd.databricks.v1+cell": {
     "cellMetadata": {
      "byteLimit": 2048000,
      "rowLimit": 10000
     },
     "inputWidgets": {},
     "nuid": "912cd04d-db35-47f8-a1a2-27115cc40729",
     "showTitle": false,
     "tableResultSettingsMap": {},
     "title": ""
    }
   },
   "outputs": [],
   "source": [
    "score_model(input_example)"
   ]
  }
 ],
 "metadata": {
  "application/vnd.databricks.v1+notebook": {
   "computePreferences": null,
   "dashboards": [],
   "environmentMetadata": {
    "base_environment": "",
    "environment_version": "2"
   },
   "inputWidgetPreferences": null,
   "language": "python",
   "notebookMetadata": {
    "mostRecentlyExecutedCommandWithImplicitDF": {
     "commandId": 2588019255229967,
     "dataframes": [
      "_sqldf"
     ]
    },
    "pythonIndentUnit": 2
   },
   "notebookName": "supervisor_deploy_endpoint",
   "widgets": {}
  },
  "language_info": {
   "name": "python"
  }
 },
 "nbformat": 4,
 "nbformat_minor": 0
}
